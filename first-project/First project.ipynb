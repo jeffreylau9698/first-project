{
 "cells": [
  {
   "cell_type": "code",
   "execution_count": 39,
   "metadata": {},
   "outputs": [],
   "source": [
    "import pandas as pd\n",
    "import numpy as np\n",
    "raw_data =pd.read_csv('2019-Oct.csv')\n",
    "\n",
    "view_only = raw_data[raw_data['event_type'] == 'view']\n",
    "purchase_only = raw_data[raw_data['event_type'] == 'purchase']\n",
    "\n",
    "top_brands = view_only.groupby('brand').brand.agg([len]).sort_values(by='len', ascending=False)\n",
    "\n",
    "top_20_brands = top_brands[:20]\n",
    "\n",
    "export_excel = top_20_brands.to_excel('export.xlsx')"
   ]
  },
  {
   "cell_type": "code",
   "execution_count": 51,
   "metadata": {},
   "outputs": [],
   "source": [
    "import openpyxl as xl\n",
    "from openpyxl.chart import BarChart, Reference\n",
    "\n",
    "wb = xl.load_workbook('export.xlsx')\n",
    "sheet = wb['Sheet1']\n",
    "\n",
    "data = Reference(sheet,\n",
    "          min_row = 1,\n",
    "          max_row = sheet.max_row,\n",
    "          min_col = 2,\n",
    "          max_col = 2)\n",
    "\n",
    "cats = Reference(sheet, min_col=1,\n",
    "                 min_row = 2,\n",
    "                 max_row = sheet.max_row)\n",
    "\n",
    "chart =BarChart()\n",
    "chart.type=\"col\"\n",
    "chart.title = \"Top 20 Brands by views\"\n",
    "chart.y_axis.title = \"View counts\"\n",
    "chart.x_axis.title = 'Brands'\n",
    "chart.add_data(data, titles_from_data = True)\n",
    "chart.set_categories(cats)\n",
    "chart.y_axis.scaling.max = max(sheet.col_values())\n",
    "sheet.add_chart(chart, 'd2')\n",
    "\n",
    "wb.save('export.xlsx')"
   ]
  },
  {
   "cell_type": "code",
   "execution_count": null,
   "metadata": {},
   "outputs": [],
   "source": []
  }
 ],
 "metadata": {
  "kernelspec": {
   "display_name": "Python 3",
   "language": "python",
   "name": "python3"
  },
  "language_info": {
   "codemirror_mode": {
    "name": "ipython",
    "version": 3
   },
   "file_extension": ".py",
   "mimetype": "text/x-python",
   "name": "python",
   "nbconvert_exporter": "python",
   "pygments_lexer": "ipython3",
   "version": "3.7.4"
  }
 },
 "nbformat": 4,
 "nbformat_minor": 2
}
